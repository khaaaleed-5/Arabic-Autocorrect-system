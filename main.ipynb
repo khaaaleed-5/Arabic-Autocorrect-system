{
 "cells": [
  {
   "cell_type": "code",
   "execution_count": 1,
   "id": "7ec5b4c1-0254-4fc6-97a4-b295b0dee45c",
   "metadata": {},
   "outputs": [],
   "source": [
    "from utils import Utils\n",
    "\n",
    "import numpy as np\n",
    "import pandas as pd"
   ]
  },
  {
   "cell_type": "code",
   "execution_count": 2,
   "id": "9d375cfa-1ae3-40d9-87ed-c71074f9b15c",
   "metadata": {},
   "outputs": [
    {
     "data": {
      "text/html": [
       "<div>\n",
       "<style scoped>\n",
       "    .dataframe tbody tr th:only-of-type {\n",
       "        vertical-align: middle;\n",
       "    }\n",
       "\n",
       "    .dataframe tbody tr th {\n",
       "        vertical-align: top;\n",
       "    }\n",
       "\n",
       "    .dataframe thead th {\n",
       "        text-align: right;\n",
       "    }\n",
       "</style>\n",
       "<table border=\"1\" class=\"dataframe\">\n",
       "  <thead>\n",
       "    <tr style=\"text-align: right;\">\n",
       "      <th></th>\n",
       "      <th>text</th>\n",
       "      <th>targe</th>\n",
       "    </tr>\n",
       "  </thead>\n",
       "  <tbody>\n",
       "    <tr>\n",
       "      <th>0</th>\n",
       "      <td>بين أستوديوهات ورزازات وصحراء مرزوكة وآثار ولي...</td>\n",
       "      <td>0</td>\n",
       "    </tr>\n",
       "    <tr>\n",
       "      <th>1</th>\n",
       "      <td>قررت النجمة الأمريكية أوبرا وينفري ألا يقتصر ع...</td>\n",
       "      <td>0</td>\n",
       "    </tr>\n",
       "    <tr>\n",
       "      <th>2</th>\n",
       "      <td>أخبارنا المغربية الوزاني تصوير الشملالي ألهب ا...</td>\n",
       "      <td>0</td>\n",
       "    </tr>\n",
       "    <tr>\n",
       "      <th>3</th>\n",
       "      <td>اخبارنا المغربية قال ابراهيم الراشدي محامي سعد...</td>\n",
       "      <td>0</td>\n",
       "    </tr>\n",
       "    <tr>\n",
       "      <th>4</th>\n",
       "      <td>تزال صناعة الجلود في المغرب تتبع الطريقة التقل...</td>\n",
       "      <td>0</td>\n",
       "    </tr>\n",
       "  </tbody>\n",
       "</table>\n",
       "</div>"
      ],
      "text/plain": [
       "                                                text  targe\n",
       "0  بين أستوديوهات ورزازات وصحراء مرزوكة وآثار ولي...      0\n",
       "1  قررت النجمة الأمريكية أوبرا وينفري ألا يقتصر ع...      0\n",
       "2  أخبارنا المغربية الوزاني تصوير الشملالي ألهب ا...      0\n",
       "3  اخبارنا المغربية قال ابراهيم الراشدي محامي سعد...      0\n",
       "4  تزال صناعة الجلود في المغرب تتبع الطريقة التقل...      0"
      ]
     },
     "execution_count": 2,
     "metadata": {},
     "output_type": "execute_result"
    }
   ],
   "source": [
    "# Load the data\n",
    "df = pd.read_csv('data.csv')\n",
    "df.head()"
   ]
  },
  {
   "cell_type": "code",
   "execution_count": 3,
   "id": "131d3d1a-4128-47bc-a401-73b6d9e6ebb6",
   "metadata": {},
   "outputs": [
    {
     "data": {
      "text/html": [
       "<div>\n",
       "<style scoped>\n",
       "    .dataframe tbody tr th:only-of-type {\n",
       "        vertical-align: middle;\n",
       "    }\n",
       "\n",
       "    .dataframe tbody tr th {\n",
       "        vertical-align: top;\n",
       "    }\n",
       "\n",
       "    .dataframe thead th {\n",
       "        text-align: right;\n",
       "    }\n",
       "</style>\n",
       "<table border=\"1\" class=\"dataframe\">\n",
       "  <thead>\n",
       "    <tr style=\"text-align: right;\">\n",
       "      <th></th>\n",
       "      <th>text</th>\n",
       "      <th>incorrect</th>\n",
       "    </tr>\n",
       "  </thead>\n",
       "  <tbody>\n",
       "    <tr>\n",
       "      <th>0</th>\n",
       "      <td>بين استوديوهات ورزازات وصحراء مرزوكة واثار ولي...</td>\n",
       "      <td>بسين استوديهات ورزازت وصحرتاء مرزوكة واثثار ول...</td>\n",
       "    </tr>\n",
       "    <tr>\n",
       "      <th>1</th>\n",
       "      <td>قررت النجمة الامريكية اوبرا وينفري الا يقتصر ع...</td>\n",
       "      <td>قرؤت االنجمة الامريكي اوبار وينفلاري االا يقتص...</td>\n",
       "    </tr>\n",
       "    <tr>\n",
       "      <th>2</th>\n",
       "      <td>اخبارنا المغربية الوزاني تصوير الشملالي الهب ا...</td>\n",
       "      <td>اخبارن المرغبية الووزاني تصوير الشملالي الب ال...</td>\n",
       "    </tr>\n",
       "    <tr>\n",
       "      <th>3</th>\n",
       "      <td>اخبارنا المغربية قال ابراهيم الراشدي محامي سعد...</td>\n",
       "      <td>اخبانا المرغبية قال ابراهيم الرادي محامي سهعد ...</td>\n",
       "    </tr>\n",
       "    <tr>\n",
       "      <th>4</th>\n",
       "      <td>تزال صناعة الجلود في المغرب تتبع الطريقة التقل...</td>\n",
       "      <td>تزال صناغعة الجلوذد في المغلارب تتبع الطريق ال...</td>\n",
       "    </tr>\n",
       "  </tbody>\n",
       "</table>\n",
       "</div>"
      ],
      "text/plain": [
       "                                                text  \\\n",
       "0  بين استوديوهات ورزازات وصحراء مرزوكة واثار ولي...   \n",
       "1  قررت النجمة الامريكية اوبرا وينفري الا يقتصر ع...   \n",
       "2  اخبارنا المغربية الوزاني تصوير الشملالي الهب ا...   \n",
       "3  اخبارنا المغربية قال ابراهيم الراشدي محامي سعد...   \n",
       "4  تزال صناعة الجلود في المغرب تتبع الطريقة التقل...   \n",
       "\n",
       "                                           incorrect  \n",
       "0  بسين استوديهات ورزازت وصحرتاء مرزوكة واثثار ول...  \n",
       "1  قرؤت االنجمة الامريكي اوبار وينفلاري االا يقتص...  \n",
       "2  اخبارن المرغبية الووزاني تصوير الشملالي الب ال...  \n",
       "3  اخبانا المرغبية قال ابراهيم الرادي محامي سهعد ...  \n",
       "4  تزال صناغعة الجلوذد في المغلارب تتبع الطريق ال...  "
      ]
     },
     "execution_count": 3,
     "metadata": {},
     "output_type": "execute_result"
    }
   ],
   "source": [
    "# drop target column\n",
    "df = df.drop(columns=['targe'], axis=1)\n",
    "\n",
    "# drop null values\n",
    "df = df.dropna()\n",
    "\n",
    "# drop duplicates\n",
    "df = df.drop_duplicates()\n",
    "\n",
    "# remove any letter but arabic\n",
    "df['text'] = df['text'].apply(lambda x: Utils.remove_non_arabic(x))\n",
    "\n",
    "# remove sentences that are less than 5 words\n",
    "df['text'] = df['text'].apply(lambda x: x if len(x.split()) > 5 else None)\n",
    "df = df.dropna()\n",
    "\n",
    "# Extract the incorrect text feature\n",
    "df['incorrect'] = df['text'].apply(lambda x: Utils.spell(x, thresh=0.7)) # 70% of the words (That are longer than 3 letters) in the dataset will be spelled incorrectly\n",
    "\n",
    "df.head()"
   ]
  },
  {
   "cell_type": "code",
   "execution_count": 4,
   "id": "07f21671-1c27-4b70-b3ba-e42976cb0bb9",
   "metadata": {},
   "outputs": [],
   "source": [
    "# Save the cleaned data\n",
    "df.to_csv('cleaned.csv', index=False)"
   ]
  },
  {
   "cell_type": "code",
   "execution_count": null,
   "id": "ba89157b",
   "metadata": {},
   "outputs": [],
   "source": []
  }
 ],
 "metadata": {
  "kernelspec": {
   "display_name": "Python 3 (ipykernel)",
   "language": "python",
   "name": "python3"
  },
  "language_info": {
   "codemirror_mode": {
    "name": "ipython",
    "version": 3
   },
   "file_extension": ".py",
   "mimetype": "text/x-python",
   "name": "python",
   "nbconvert_exporter": "python",
   "pygments_lexer": "ipython3",
   "version": "3.10.12"
  }
 },
 "nbformat": 4,
 "nbformat_minor": 5
}
